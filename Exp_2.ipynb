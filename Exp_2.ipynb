{
  "nbformat": 4,
  "nbformat_minor": 0,
  "metadata": {
    "colab": {
      "provenance": []
    },
    "kernelspec": {
      "name": "python3",
      "display_name": "Python 3"
    },
    "language_info": {
      "name": "python"
    }
  },
  "cells": [
    {
      "cell_type": "code",
      "execution_count": 5,
      "metadata": {
        "colab": {
          "base_uri": "https://localhost:8080/",
          "height": 420
        },
        "id": "rJkHfO5HGMhx",
        "outputId": "5abad50d-3b05-41e2-f41a-5c4af7334dca"
      },
      "outputs": [
        {
          "output_type": "stream",
          "name": "stdout",
          "text": [
            "Accuracy on the test set: 0.8823529411764696\n"
          ]
        },
        {
          "output_type": "display_data",
          "data": {
            "text/plain": [
              "<Figure size 640x480 with 6 Axes>"
            ],
            "image/png": "[encoded data removed]"
          },
          "metadata": {}
        }
      ],
      "source": [
        "import random\n",
        "import numpy as np\n",
        "import tensorflow as tf\n",
        "import matplotlib.pyplot as plt\n",
        "tf.compat.v1.disable_eager_execution()\n",
        "\n",
        "# Load MNIST data using tf.keras.datasets\n",
        "mnist = tf.keras.datasets.mnist\n",
        "(x_train, y_train), (x_test, y_test) = mnist.load_data()\n",
        "\n",
        "# Flatten the images and normalize pixel values to range [0, 1]\n",
        "x_train, x_test = x_train / 255.0, x_test / 255.0\n",
        "\n",
        "train_size = 1000\n",
        "test_size = 102\n",
        "\n",
        "rand_train_indices = np.random.choice(len(x_train), train_size, replace=False)\n",
        "rand_test_indices = np.random.choice(len(x_test), test_size, replace=False)\n",
        "\n",
        "x_vals_train = x_train[rand_train_indices].reshape((-1, 28 * 28))\n",
        "x_vals_test = x_test[rand_test_indices].reshape((-1, 28 * 28))\n",
        "y_vals_train = tf.keras.utils.to_categorical(y_train[rand_train_indices], num_classes=10)\n",
        "y_vals_test = tf.keras.utils.to_categorical(y_test[rand_test_indices], num_classes=10)\n",
        "\n",
        "k = 4\n",
        "batch_size = 6\n",
        "\n",
        "x_data_train = tf.compat.v1.placeholder(shape=[None, 784], dtype=tf.float32)\n",
        "x_data_test = tf.compat.v1.placeholder(shape=[None, 784], dtype=tf.float32)\n",
        "y_target_train = tf.compat.v1.placeholder(shape=[None, 10], dtype=tf.float32)\n",
        "y_target_test = tf.compat.v1.placeholder(shape=[None, 10], dtype=tf.float32)\n",
        "\n",
        "distance = tf.reduce_sum(tf.abs(tf.subtract(x_data_train, tf.expand_dims(x_data_test, 1))), axis=2)\n",
        "top_k_xvals, top_k_indices = tf.nn.top_k(tf.negative(distance), k=k)\n",
        "prediction_indices = tf.gather(y_target_train, top_k_indices)\n",
        "count_of_predictions = tf.reduce_sum(prediction_indices, axis=1)\n",
        "prediction = tf.argmax(count_of_predictions, axis=1)\n",
        "\n",
        "num_loops = int(np.ceil(len(x_vals_test) / batch_size))\n",
        "test_output = []\n",
        "actual_vals = []\n",
        "\n",
        "with tf.compat.v1.Session() as sess:\n",
        "    for i in range(num_loops):\n",
        "        min_index = i * batch_size\n",
        "        max_index = min((i + 1) * batch_size, len(x_vals_train))\n",
        "        x_batch = x_vals_test[min_index:max_index]\n",
        "        y_batch = y_vals_test[min_index:max_index]\n",
        "        predictions = sess.run(\n",
        "            prediction,\n",
        "            feed_dict={x_data_train: x_vals_train, x_data_test: x_batch, y_target_train: y_vals_train, y_target_test: y_batch}\n",
        "        )\n",
        "        test_output.extend(predictions)\n",
        "        actual_vals.extend(np.argmax(y_batch, axis=1))\n",
        "\n",
        "accuracy = sum([1. / test_size for i in range(test_size) if test_output[i] == actual_vals[i]])\n",
        "print('Accuracy on the test set: ' + str(accuracy))\n",
        "\n",
        "actuals = np.argmax(y_batch, axis=1)\n",
        "Nrows = 2\n",
        "Ncols = 3\n",
        "\n",
        "for i in range(len(actuals)):\n",
        "    plt.subplot(Nrows, Ncols, i + 1)\n",
        "    plt.imshow(np.reshape(x_batch[i], [28, 28]), cmap='Greys_r')\n",
        "    plt.title('Actual: ' + str(actuals[i]) + ' Pred: ' + str(predictions[i]), fontsize=10)\n",
        "    frame = plt.gca()\n",
        "    frame.axes.get_xaxis().set_visible(False)\n",
        "    frame.axes.get_yaxis().set_visible(False)\n",
        "\n",
        "plt.show()"
      ]
    }
  ]
}